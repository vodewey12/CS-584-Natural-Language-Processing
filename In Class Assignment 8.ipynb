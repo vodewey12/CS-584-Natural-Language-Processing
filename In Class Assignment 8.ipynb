{
 "cells": [
  {
   "cell_type": "markdown",
   "id": "e6751175",
   "metadata": {},
   "source": [
    "# In-Class Activity: Step-by-Step Machine Translation\n",
    "\n",
    "Aaron Vo  \n",
    "CS 584  \n",
    "November 6, 2024\n",
    "\n",
    "## Objective\n",
    "Translate the sentence ”The sun is shining” from English to French by coding\n",
    "each step in the translation process."
   ]
  },
  {
   "cell_type": "markdown",
   "id": "b9c38d7a",
   "metadata": {},
   "source": [
    "### Step 1: Phrase Segmentation\n",
    "Write a function to segment the sentence into predefined phrases.\n",
    "Task: Complete the function segment phrases to split ”The sun is shining”\n",
    "into the phrases [\"The sun\", \"is\", \"shining\"]."
   ]
  },
  {
   "cell_type": "code",
   "execution_count": 6,
   "id": "b798e5f9",
   "metadata": {},
   "outputs": [],
   "source": [
    "import re"
   ]
  },
  {
   "cell_type": "code",
   "execution_count": 15,
   "id": "7351a57c",
   "metadata": {},
   "outputs": [],
   "source": [
    "def segment_phrases(sentence):\n",
    "    words = sentence.split()\n",
    "    phrases = [' '.join(words[:2])] + words[2:]\n",
    "    return phrases"
   ]
  },
  {
   "cell_type": "code",
   "execution_count": 16,
   "id": "a07316cf",
   "metadata": {
    "scrolled": true
   },
   "outputs": [
    {
     "name": "stdout",
     "output_type": "stream",
     "text": [
      "Phrases:  ['The sun', 'is', 'shining']\n"
     ]
    }
   ],
   "source": [
    "sentence = \"The sun is shining\"\n",
    "segments = segment_phrases(sentence)\n",
    "print(\"Phrases: \", segments)"
   ]
  },
  {
   "cell_type": "markdown",
   "id": "6828413d",
   "metadata": {},
   "source": [
    "### Step 2: Phrase Translation\n",
    "\n",
    "Using a predefined dictionary, translate each phrase from English to French.\n",
    "Task: Complete the function translate phrases using the dictionary be-\n",
    "low."
   ]
  },
  {
   "cell_type": "code",
   "execution_count": 18,
   "id": "29740909",
   "metadata": {},
   "outputs": [],
   "source": [
    "translation_dict = {\n",
    "    \"The sun\": \"Le soleil\",\n",
    "    \"is\": \"est\",\n",
    "    \"shining\": \"brille\"\n",
    "}"
   ]
  },
  {
   "cell_type": "code",
   "execution_count": 20,
   "id": "dbae4be9",
   "metadata": {},
   "outputs": [],
   "source": [
    "def translate_phrases(phrases, translation_dict):\n",
    "    translations = []\n",
    "    for phrase in phrases: \n",
    "        translations.append(translation_dict[phrase])\n",
    "    return translations"
   ]
  },
  {
   "cell_type": "code",
   "execution_count": 23,
   "id": "a38c91a6",
   "metadata": {},
   "outputs": [
    {
     "name": "stdout",
     "output_type": "stream",
     "text": [
      "Translated Phrases:  ['Le soleil', 'est', 'brille']\n"
     ]
    }
   ],
   "source": [
    "translations = translate_phrases(segments, translation_dict)\n",
    "print(\"Translated Phrases: \", translations)"
   ]
  },
  {
   "cell_type": "markdown",
   "id": "d206c56a",
   "metadata": {},
   "source": [
    "### Step 3: Reordering and Combining\n",
    "Reorder and combine the translated phrases to form the final sentence in French.\n",
    "Task: Complete the function combine phrases to join the translated phrases."
   ]
  },
  {
   "cell_type": "code",
   "execution_count": 24,
   "id": "adf3d82a",
   "metadata": {},
   "outputs": [],
   "source": [
    "def combine_phrases(translations):\n",
    "    return ' '.join(translations)"
   ]
  },
  {
   "cell_type": "code",
   "execution_count": 25,
   "id": "9ac3cb22",
   "metadata": {},
   "outputs": [
    {
     "name": "stdout",
     "output_type": "stream",
     "text": [
      "Final Translation:  Le soleil est brille\n"
     ]
    }
   ],
   "source": [
    "final_sentence = combine_phrases(translations)\n",
    "print(\"Final Translation: \", final_sentence)"
   ]
  },
  {
   "cell_type": "markdown",
   "id": "6c423112",
   "metadata": {},
   "source": [
    "### Step 4: Probability Calculation\n",
    "If time allows, assign probabilities to each phrase translation and calculate the\n",
    "overall probability of the sentence.\n",
    "\n",
    "Task: Complete calculate probability to compute the likelihood of the\n",
    "translated sentence."
   ]
  },
  {
   "cell_type": "code",
   "execution_count": 26,
   "id": "c6976fc4",
   "metadata": {},
   "outputs": [],
   "source": [
    "phrase_probabilities = {\n",
    "    \"Le soleil\": 0.9,\n",
    "    \"est\": 0.95,\n",
    "    \"brille\": 0.85\n",
    "}\n",
    "\n",
    "def calculate_probability(translations, phrase_probabilities):\n",
    "    probability = 1.0\n",
    "    for phrase in translations:\n",
    "        probability *= phrase_probabilities[phrase]\n",
    "    return probability"
   ]
  },
  {
   "cell_type": "code",
   "execution_count": 27,
   "id": "61f79e90",
   "metadata": {},
   "outputs": [
    {
     "name": "stdout",
     "output_type": "stream",
     "text": [
      "Total Probability:  0.72675\n"
     ]
    }
   ],
   "source": [
    "print(\"Total Probability: \", calculate_probability(translations, phrase_probabilities))"
   ]
  }
 ],
 "metadata": {
  "kernelspec": {
   "display_name": "Python 3 (ipykernel)",
   "language": "python",
   "name": "python3"
  },
  "language_info": {
   "codemirror_mode": {
    "name": "ipython",
    "version": 3
   },
   "file_extension": ".py",
   "mimetype": "text/x-python",
   "name": "python",
   "nbconvert_exporter": "python",
   "pygments_lexer": "ipython3",
   "version": "3.9.6"
  }
 },
 "nbformat": 4,
 "nbformat_minor": 5
}
